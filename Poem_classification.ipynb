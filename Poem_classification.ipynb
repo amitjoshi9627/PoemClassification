{
  "nbformat": 4,
  "nbformat_minor": 0,
  "metadata": {
    "colab": {
      "name": "Poem_classification.ipynb",
      "version": "0.3.2",
      "provenance": [],
      "collapsed_sections": []
    },
    "kernelspec": {
      "name": "python3",
      "display_name": "Python 3"
    },
    "accelerator": "GPU"
  },
  "cells": [
    {
      "metadata": {
        "id": "aDMaj2wF8Dp9",
        "colab_type": "code",
        "colab": {}
      },
      "cell_type": "code",
      "source": [
        "import numpy as np\n",
        "import pandas as pd\n",
        "import seaborn as sns\n",
        "import matplotlib.pyplot as plt\n",
        "%matplotlib inline"
      ],
      "execution_count": 0,
      "outputs": []
    },
    {
      "metadata": {
        "id": "XH_PNQq1wPkj",
        "colab_type": "code",
        "colab": {}
      },
      "cell_type": "code",
      "source": [
        "#Loading Data\n",
        "data = pd.read_csv('poem_data.csv')"
      ],
      "execution_count": 0,
      "outputs": []
    },
    {
      "metadata": {
        "id": "tcpKoVqGwZ1G",
        "colab_type": "code",
        "colab": {
          "base_uri": "https://localhost:8080/",
          "height": 206
        },
        "outputId": "e4e4a9e4-29aa-4600-bfdc-a6ad6b403d6b"
      },
      "cell_type": "code",
      "source": [
        "data.head()"
      ],
      "execution_count": 291,
      "outputs": [
        {
          "output_type": "execute_result",
          "data": {
            "text/html": [
              "<div>\n",
              "<style scoped>\n",
              "    .dataframe tbody tr th:only-of-type {\n",
              "        vertical-align: middle;\n",
              "    }\n",
              "\n",
              "    .dataframe tbody tr th {\n",
              "        vertical-align: top;\n",
              "    }\n",
              "\n",
              "    .dataframe thead th {\n",
              "        text-align: right;\n",
              "    }\n",
              "</style>\n",
              "<table border=\"1\" class=\"dataframe\">\n",
              "  <thead>\n",
              "    <tr style=\"text-align: right;\">\n",
              "      <th></th>\n",
              "      <th>Genre</th>\n",
              "      <th>Poem</th>\n",
              "      <th>Poem Url</th>\n",
              "    </tr>\n",
              "  </thead>\n",
              "  <tbody>\n",
              "    <tr>\n",
              "      <th>0</th>\n",
              "      <td>Death</td>\n",
              "      <td>On moonlit heath and lonesome bank The sheep b...</td>\n",
              "      <td>https://www.poets.org/poetsorg/poem/shropshire...</td>\n",
              "    </tr>\n",
              "    <tr>\n",
              "      <th>1</th>\n",
              "      <td>Death</td>\n",
              "      <td>“Lights out\" along the land, “Lights out” upon...</td>\n",
              "      <td>https://www.poets.org/poetsorg/poem/lights-out-1</td>\n",
              "    </tr>\n",
              "    <tr>\n",
              "      <th>2</th>\n",
              "      <td>Death</td>\n",
              "      <td>I am a garden of red tulips And late daffodils...</td>\n",
              "      <td>https://www.poets.org/poetsorg/poem/prayer-11</td>\n",
              "    </tr>\n",
              "    <tr>\n",
              "      <th>3</th>\n",
              "      <td>Death</td>\n",
              "      <td>New moon in midheaven, in Libra. The hermit wi...</td>\n",
              "      <td>https://www.poets.org/poetsorg/poem/entry-003-...</td>\n",
              "    </tr>\n",
              "    <tr>\n",
              "      <th>4</th>\n",
              "      <td>Death</td>\n",
              "      <td>All the hills and vales alongEarth is bursting...</td>\n",
              "      <td>https://www.poets.org/poetsorg/poem/all-hills-...</td>\n",
              "    </tr>\n",
              "  </tbody>\n",
              "</table>\n",
              "</div>"
            ],
            "text/plain": [
              "   Genre                                               Poem  \\\n",
              "0  Death  On moonlit heath and lonesome bank The sheep b...   \n",
              "1  Death  “Lights out\" along the land, “Lights out” upon...   \n",
              "2  Death  I am a garden of red tulips And late daffodils...   \n",
              "3  Death  New moon in midheaven, in Libra. The hermit wi...   \n",
              "4  Death  All the hills and vales alongEarth is bursting...   \n",
              "\n",
              "                                            Poem Url  \n",
              "0  https://www.poets.org/poetsorg/poem/shropshire...  \n",
              "1   https://www.poets.org/poetsorg/poem/lights-out-1  \n",
              "2      https://www.poets.org/poetsorg/poem/prayer-11  \n",
              "3  https://www.poets.org/poetsorg/poem/entry-003-...  \n",
              "4  https://www.poets.org/poetsorg/poem/all-hills-...  "
            ]
          },
          "metadata": {
            "tags": []
          },
          "execution_count": 291
        }
      ]
    },
    {
      "metadata": {
        "id": "Ev9u6rgHyTFe",
        "colab_type": "code",
        "colab": {
          "base_uri": "https://localhost:8080/",
          "height": 156
        },
        "outputId": "a60a3152-f935-49d2-ab27-b447152ea137"
      },
      "cell_type": "code",
      "source": [
        "data.info()"
      ],
      "execution_count": 296,
      "outputs": [
        {
          "output_type": "stream",
          "text": [
            "<class 'pandas.core.frame.DataFrame'>\n",
            "RangeIndex: 999 entries, 0 to 998\n",
            "Data columns (total 3 columns):\n",
            "Genre       999 non-null object\n",
            "Poem        999 non-null object\n",
            "Poem Url    998 non-null object\n",
            "dtypes: object(3)\n",
            "memory usage: 23.5+ KB\n"
          ],
          "name": "stdout"
        }
      ]
    },
    {
      "metadata": {
        "id": "S3TmOsiwwbD_",
        "colab_type": "code",
        "colab": {
          "base_uri": "https://localhost:8080/",
          "height": 34
        },
        "outputId": "3fde54c7-98ad-4e69-d9a8-fb5bb1a51060"
      },
      "cell_type": "code",
      "source": [
        "data.columns"
      ],
      "execution_count": 297,
      "outputs": [
        {
          "output_type": "execute_result",
          "data": {
            "text/plain": [
              "Index(['Genre', 'Poem', 'Poem Url'], dtype='object')"
            ]
          },
          "metadata": {
            "tags": []
          },
          "execution_count": 297
        }
      ]
    },
    {
      "metadata": {
        "id": "Kljb6OlIwrb1",
        "colab_type": "code",
        "colab": {
          "base_uri": "https://localhost:8080/",
          "height": 104
        },
        "outputId": "35e511ba-5e26-48ba-f394-e9f2506b2192"
      },
      "cell_type": "code",
      "source": [
        "#Count of Each Genre\n",
        "data['Genre'].value_counts()"
      ],
      "execution_count": 298,
      "outputs": [
        {
          "output_type": "execute_result",
          "data": {
            "text/plain": [
              "Audio     254\n",
              "Nature    253\n",
              "Death     250\n",
              "Love      242\n",
              "Name: Genre, dtype: int64"
            ]
          },
          "metadata": {
            "tags": []
          },
          "execution_count": 298
        }
      ]
    },
    {
      "metadata": {
        "id": "TQF3ODAAx2rX",
        "colab_type": "code",
        "colab": {
          "base_uri": "https://localhost:8080/",
          "height": 331
        },
        "outputId": "b5ed26fa-331b-4dd4-c1d5-5defbff36360"
      },
      "cell_type": "code",
      "source": [
        "sns.countplot(data['Genre'])"
      ],
      "execution_count": 299,
      "outputs": [
        {
          "output_type": "stream",
          "text": [
            "/usr/local/lib/python3.6/dist-packages/seaborn/categorical.py:1428: FutureWarning: remove_na is deprecated and is a private function. Do not use.\n",
            "  stat_data = remove_na(group_data)\n"
          ],
          "name": "stderr"
        },
        {
          "output_type": "execute_result",
          "data": {
            "text/plain": [
              "<matplotlib.axes._subplots.AxesSubplot at 0x7f8d88859b38>"
            ]
          },
          "metadata": {
            "tags": []
          },
          "execution_count": 299
        },
        {
          "output_type": "display_data",
          "data": {
            "image/png": "[encoded data removed]",
            "text/plain": [
              "<Figure size 432x288 with 1 Axes>"
            ]
          },
          "metadata": {
            "tags": []
          }
        }
      ]
    },
    {
      "metadata": {
        "id": "WbQYFr802yCK",
        "colab_type": "code",
        "colab": {}
      },
      "cell_type": "code",
      "source": [
        "#Spacy for textual Preprocessing\n",
        "\n",
        "import spacy"
      ],
      "execution_count": 0,
      "outputs": []
    },
    {
      "metadata": {
        "id": "Qi2GdCG52x_Q",
        "colab_type": "code",
        "colab": {}
      },
      "cell_type": "code",
      "source": [
        "nlp = spacy.load('en_core_web_sm')"
      ],
      "execution_count": 0,
      "outputs": []
    },
    {
      "metadata": {
        "id": "yc1KXYgs2x8V",
        "colab_type": "code",
        "colab": {}
      },
      "cell_type": "code",
      "source": [
        "import string\n",
        "punc = string.punctuation + '“”|”'"
      ],
      "execution_count": 0,
      "outputs": []
    },
    {
      "metadata": {
        "id": "9julEYU84TBa",
        "colab_type": "code",
        "colab": {}
      },
      "cell_type": "code",
      "source": [
        "\n",
        "def remove_stop_words(text):\n",
        "    doc = nlp(text)\n",
        "    return \" \".join([token.lemma_ for token in doc if not token.is_stop])\n",
        "\n",
        "def to_lower(text):\n",
        "    return text.lower()\n",
        "\n",
        "def remove_punc(text):\n",
        "    for i in punc:\n",
        "        text = text.replace(i,\"\")\n",
        "    return text"
      ],
      "execution_count": 0,
      "outputs": []
    },
    {
      "metadata": {
        "id": "u0aw-zR__xR5",
        "colab_type": "code",
        "colab": {}
      },
      "cell_type": "code",
      "source": [
        "# Converting poem to lowercase\n",
        "data['Poem'] = data['Poem'].apply(to_lower)"
      ],
      "execution_count": 0,
      "outputs": []
    },
    {
      "metadata": {
        "id": "iY2RZvh2Drmr",
        "colab_type": "code",
        "colab": {}
      },
      "cell_type": "code",
      "source": [
        "# Removing Punctuations\n",
        "data['Poem'] = data['Poem'].apply(remove_punc)"
      ],
      "execution_count": 0,
      "outputs": []
    },
    {
      "metadata": {
        "id": "AZlt8fe6AYG4",
        "colab_type": "code",
        "colab": {
          "base_uri": "https://localhost:8080/",
          "height": 206
        },
        "outputId": "1bf6f9b8-6f79-4eee-f372-8b878576df4c"
      },
      "cell_type": "code",
      "source": [
        "data.head()"
      ],
      "execution_count": 306,
      "outputs": [
        {
          "output_type": "execute_result",
          "data": {
            "text/html": [
              "<div>\n",
              "<style scoped>\n",
              "    .dataframe tbody tr th:only-of-type {\n",
              "        vertical-align: middle;\n",
              "    }\n",
              "\n",
              "    .dataframe tbody tr th {\n",
              "        vertical-align: top;\n",
              "    }\n",
              "\n",
              "    .dataframe thead th {\n",
              "        text-align: right;\n",
              "    }\n",
              "</style>\n",
              "<table border=\"1\" class=\"dataframe\">\n",
              "  <thead>\n",
              "    <tr style=\"text-align: right;\">\n",
              "      <th></th>\n",
              "      <th>Genre</th>\n",
              "      <th>Poem</th>\n",
              "      <th>Poem Url</th>\n",
              "    </tr>\n",
              "  </thead>\n",
              "  <tbody>\n",
              "    <tr>\n",
              "      <th>0</th>\n",
              "      <td>Death</td>\n",
              "      <td>on moonlit heath and lonesome bank the sheep b...</td>\n",
              "      <td>https://www.poets.org/poetsorg/poem/shropshire...</td>\n",
              "    </tr>\n",
              "    <tr>\n",
              "      <th>1</th>\n",
              "      <td>Death</td>\n",
              "      <td>lights out along the land lights out upon the ...</td>\n",
              "      <td>https://www.poets.org/poetsorg/poem/lights-out-1</td>\n",
              "    </tr>\n",
              "    <tr>\n",
              "      <th>2</th>\n",
              "      <td>Death</td>\n",
              "      <td>i am a garden of red tulips and late daffodils...</td>\n",
              "      <td>https://www.poets.org/poetsorg/poem/prayer-11</td>\n",
              "    </tr>\n",
              "    <tr>\n",
              "      <th>3</th>\n",
              "      <td>Death</td>\n",
              "      <td>new moon in midheaven in libra the hermit wiel...</td>\n",
              "      <td>https://www.poets.org/poetsorg/poem/entry-003-...</td>\n",
              "    </tr>\n",
              "    <tr>\n",
              "      <th>4</th>\n",
              "      <td>Death</td>\n",
              "      <td>all the hills and vales alongearth is bursting...</td>\n",
              "      <td>https://www.poets.org/poetsorg/poem/all-hills-...</td>\n",
              "    </tr>\n",
              "  </tbody>\n",
              "</table>\n",
              "</div>"
            ],
            "text/plain": [
              "   Genre                                               Poem  \\\n",
              "0  Death  on moonlit heath and lonesome bank the sheep b...   \n",
              "1  Death  lights out along the land lights out upon the ...   \n",
              "2  Death  i am a garden of red tulips and late daffodils...   \n",
              "3  Death  new moon in midheaven in libra the hermit wiel...   \n",
              "4  Death  all the hills and vales alongearth is bursting...   \n",
              "\n",
              "                                            Poem Url  \n",
              "0  https://www.poets.org/poetsorg/poem/shropshire...  \n",
              "1   https://www.poets.org/poetsorg/poem/lights-out-1  \n",
              "2      https://www.poets.org/poetsorg/poem/prayer-11  \n",
              "3  https://www.poets.org/poetsorg/poem/entry-003-...  \n",
              "4  https://www.poets.org/poetsorg/poem/all-hills-...  "
            ]
          },
          "metadata": {
            "tags": []
          },
          "execution_count": 306
        }
      ]
    },
    {
      "metadata": {
        "id": "FVmXWzafAdlh",
        "colab_type": "code",
        "colab": {}
      },
      "cell_type": "code",
      "source": [
        "# Tokenization and Lemmatization\n",
        "data['Tokens'] = data['Poem'].apply(remove_stop_words)"
      ],
      "execution_count": 0,
      "outputs": []
    },
    {
      "metadata": {
        "id": "m_FEj94uBUAL",
        "colab_type": "code",
        "outputId": "fc0d3db3-2304-4d0c-8cca-59ee0dddf62f",
        "colab": {
          "base_uri": "https://localhost:8080/",
          "height": 206
        }
      },
      "cell_type": "code",
      "source": [
        "data.head()"
      ],
      "execution_count": 308,
      "outputs": [
        {
          "output_type": "execute_result",
          "data": {
            "text/html": [
              "<div>\n",
              "<style scoped>\n",
              "    .dataframe tbody tr th:only-of-type {\n",
              "        vertical-align: middle;\n",
              "    }\n",
              "\n",
              "    .dataframe tbody tr th {\n",
              "        vertical-align: top;\n",
              "    }\n",
              "\n",
              "    .dataframe thead th {\n",
              "        text-align: right;\n",
              "    }\n",
              "</style>\n",
              "<table border=\"1\" class=\"dataframe\">\n",
              "  <thead>\n",
              "    <tr style=\"text-align: right;\">\n",
              "      <th></th>\n",
              "      <th>Genre</th>\n",
              "      <th>Poem</th>\n",
              "      <th>Poem Url</th>\n",
              "      <th>Tokens</th>\n",
              "    </tr>\n",
              "  </thead>\n",
              "  <tbody>\n",
              "    <tr>\n",
              "      <th>0</th>\n",
              "      <td>Death</td>\n",
              "      <td>on moonlit heath and lonesome bank the sheep b...</td>\n",
              "      <td>https://www.poets.org/poetsorg/poem/shropshire...</td>\n",
              "      <td>moonlit heath lonesome bank sheep graze yon ga...</td>\n",
              "    </tr>\n",
              "    <tr>\n",
              "      <th>1</th>\n",
              "      <td>Death</td>\n",
              "      <td>lights out along the land lights out upon the ...</td>\n",
              "      <td>https://www.poets.org/poetsorg/poem/lights-out-1</td>\n",
              "      <td>light land light sea night hide hand o’er peac...</td>\n",
              "    </tr>\n",
              "    <tr>\n",
              "      <th>2</th>\n",
              "      <td>Death</td>\n",
              "      <td>i am a garden of red tulips and late daffodils...</td>\n",
              "      <td>https://www.poets.org/poetsorg/poem/prayer-11</td>\n",
              "      <td>garden red tulip late daffodil bayhedg small s...</td>\n",
              "    </tr>\n",
              "    <tr>\n",
              "      <th>3</th>\n",
              "      <td>Death</td>\n",
              "      <td>new moon in midheaven in libra the hermit wiel...</td>\n",
              "      <td>https://www.poets.org/poetsorg/poem/entry-003-...</td>\n",
              "      <td>new moon midheaven libra hermit wield sword te...</td>\n",
              "    </tr>\n",
              "    <tr>\n",
              "      <th>4</th>\n",
              "      <td>Death</td>\n",
              "      <td>all the hills and vales alongearth is bursting...</td>\n",
              "      <td>https://www.poets.org/poetsorg/poem/all-hills-...</td>\n",
              "      <td>hill val alongearth burst songand singer chaps...</td>\n",
              "    </tr>\n",
              "  </tbody>\n",
              "</table>\n",
              "</div>"
            ],
            "text/plain": [
              "   Genre                                               Poem  \\\n",
              "0  Death  on moonlit heath and lonesome bank the sheep b...   \n",
              "1  Death  lights out along the land lights out upon the ...   \n",
              "2  Death  i am a garden of red tulips and late daffodils...   \n",
              "3  Death  new moon in midheaven in libra the hermit wiel...   \n",
              "4  Death  all the hills and vales alongearth is bursting...   \n",
              "\n",
              "                                            Poem Url  \\\n",
              "0  https://www.poets.org/poetsorg/poem/shropshire...   \n",
              "1   https://www.poets.org/poetsorg/poem/lights-out-1   \n",
              "2      https://www.poets.org/poetsorg/poem/prayer-11   \n",
              "3  https://www.poets.org/poetsorg/poem/entry-003-...   \n",
              "4  https://www.poets.org/poetsorg/poem/all-hills-...   \n",
              "\n",
              "                                              Tokens  \n",
              "0  moonlit heath lonesome bank sheep graze yon ga...  \n",
              "1  light land light sea night hide hand o’er peac...  \n",
              "2  garden red tulip late daffodil bayhedg small s...  \n",
              "3  new moon midheaven libra hermit wield sword te...  \n",
              "4  hill val alongearth burst songand singer chaps...  "
            ]
          },
          "metadata": {
            "tags": []
          },
          "execution_count": 308
        }
      ]
    },
    {
      "metadata": {
        "id": "2QpRMAPgwwD8",
        "colab_type": "code",
        "colab": {}
      },
      "cell_type": "code",
      "source": [
        "# EXtracting features and targets\n",
        "X = data['Tokens']\n",
        "y = data['Genre']"
      ],
      "execution_count": 0,
      "outputs": []
    },
    {
      "metadata": {
        "id": "SBNp7nfdw5M1",
        "colab_type": "code",
        "outputId": "afb027df-d020-44d9-d345-8d13dbde2365",
        "colab": {
          "base_uri": "https://localhost:8080/",
          "height": 104
        }
      },
      "cell_type": "code",
      "source": [
        "#Checking Null values\n",
        "data.isnull().sum()"
      ],
      "execution_count": 311,
      "outputs": [
        {
          "output_type": "execute_result",
          "data": {
            "text/plain": [
              "Genre       0\n",
              "Poem        0\n",
              "Poem Url    1\n",
              "Tokens      0\n",
              "dtype: int64"
            ]
          },
          "metadata": {
            "tags": []
          },
          "execution_count": 311
        }
      ]
    },
    {
      "metadata": {
        "id": "nnk3NBPFxhva",
        "colab_type": "code",
        "colab": {}
      },
      "cell_type": "code",
      "source": [
        "from sklearn.model_selection import train_test_split"
      ],
      "execution_count": 0,
      "outputs": []
    },
    {
      "metadata": {
        "id": "XMYNuJm2xtBQ",
        "colab_type": "code",
        "colab": {}
      },
      "cell_type": "code",
      "source": [
        "# Splitting Data into training and testing data\n",
        "X_train,X_test,y_train,y_test = train_test_split(X,y,test_size = 0.25,random_state = 100)"
      ],
      "execution_count": 0,
      "outputs": []
    },
    {
      "metadata": {
        "id": "qJXBK8dmx0Mk",
        "colab_type": "code",
        "colab": {}
      },
      "cell_type": "code",
      "source": [
        "# Importing required Libraries\n",
        "from sklearn.pipeline import Pipeline\n",
        "from sklearn.feature_extraction.text import TfidfVectorizer\n",
        "from sklearn.naive_bayes import GaussianNB\n",
        "from sklearn.svm import SVC\n",
        "from sklearn.preprocessing import FunctionTransformer\n",
        "from sklearn.ensemble import RandomForestClassifier\n",
        "from sklearn.linear_model import LogisticRegression\n",
        "from sklearn.model_selection import GridSearchCV"
      ],
      "execution_count": 0,
      "outputs": []
    },
    {
      "metadata": {
        "id": "eAOClKk7CvqB",
        "colab_type": "code",
        "colab": {
          "base_uri": "https://localhost:8080/",
          "height": 34
        },
        "outputId": "ceb589fb-16aa-4865-feb5-9a12bca2e82c"
      },
      "cell_type": "code",
      "source": [
        "X_train[0]"
      ],
      "execution_count": 315,
      "outputs": [
        {
          "output_type": "execute_result",
          "data": {
            "text/plain": [
              "'moonlit heath lonesome bank sheep graze yon gallow clank fast cross waysa careless shepherd flock moonlight high glimmer sheep'"
            ]
          },
          "metadata": {
            "tags": []
          },
          "execution_count": 315
        }
      ]
    },
    {
      "metadata": {
        "id": "XIbKuIs6LPoO",
        "colab_type": "code",
        "colab": {}
      },
      "cell_type": "code",
      "source": [
        "# Grid Search CV to find the best parameters\n",
        "def svc_param_selection(X, y, nfolds):\n",
        "    Cs = [0.001, 0.01, 0.1, 1, 10]\n",
        "    gammas = [0.001, 0.01, 0.1, 1]\n",
        "    param_grid = {'C': Cs, 'gamma' : gammas}\n",
        "    grid_search = GridSearchCV(SVC(kernel = 'linear'), param_grid, cv=nfolds)\n",
        "    grid_search.fit(X, y)\n",
        "    grid_search.best_params_\n",
        "    return grid_search.best_params_"
      ],
      "execution_count": 0,
      "outputs": []
    },
    {
      "metadata": {
        "colab_type": "code",
        "id": "lyy4yEO3MBgI",
        "colab": {}
      },
      "cell_type": "code",
      "source": [
        "# using TFIDF on X_train\n",
        "vec = TfidfVectorizer(min_df=2,max_df=0.95)\n",
        "\n",
        "X_train = vec.fit_transform(X_train)"
      ],
      "execution_count": 0,
      "outputs": []
    },
    {
      "metadata": {
        "id": "ilDzrwQxLdIg",
        "colab_type": "code",
        "colab": {
          "base_uri": "https://localhost:8080/",
          "height": 89
        },
        "outputId": "a3380a46-44ce-42e9-cbec-a060903476b2"
      },
      "cell_type": "code",
      "source": [
        "# Finding best parameter for SVC()\n",
        "svc_param_selection(X_train,y_train,20)"
      ],
      "execution_count": 318,
      "outputs": [
        {
          "output_type": "stream",
          "text": [
            "/usr/local/lib/python3.6/dist-packages/sklearn/model_selection/_search.py:841: DeprecationWarning: The default of the `iid` parameter will change from True to False in version 0.22 and will be removed in 0.24. This will change numeric results when test-set sizes are unequal.\n",
            "  DeprecationWarning)\n"
          ],
          "name": "stderr"
        },
        {
          "output_type": "execute_result",
          "data": {
            "text/plain": [
              "{'C': 1, 'gamma': 0.001}"
            ]
          },
          "metadata": {
            "tags": []
          },
          "execution_count": 318
        }
      ]
    },
    {
      "metadata": {
        "id": "L3TsFIzVS00s",
        "colab_type": "code",
        "colab": {}
      },
      "cell_type": "code",
      "source": [
        "# Again Random Split of Data into train and test\n",
        "X_train,X_test,y_train,y_test = train_test_split(X,y,test_size = 0.25,random_state = 100)"
      ],
      "execution_count": 0,
      "outputs": []
    },
    {
      "metadata": {
        "id": "2qXUv3hKyEQy",
        "colab_type": "code",
        "colab": {}
      },
      "cell_type": "code",
      "source": [
        "# Creating Pipeline -->\n",
        "poem_clf = Pipeline([\n",
        "               (\"Tfidf\", TfidfVectorizer(min_df = 2,max_df = 0.95)),\n",
        "                (\"ToDense\",FunctionTransformer(lambda x: x.todense(), accept_sparse=True)),\n",
        "                (\"Classifier\",LogisticRegression(penalty = 'l1',C = 1))\n",
        "])"
      ],
      "execution_count": 0,
      "outputs": []
    },
    {
      "metadata": {
        "id": "oqMq9iusyb3p",
        "colab_type": "code",
        "outputId": "f7fa5cb1-9b85-464b-f506-05d8d5c586f8",
        "colab": {
          "base_uri": "https://localhost:8080/",
          "height": 245
        }
      },
      "cell_type": "code",
      "source": [
        "# Fitting Poem_clf pipeline with data\n",
        "poem_clf.fit(X_train,y_train)"
      ],
      "execution_count": 320,
      "outputs": [
        {
          "output_type": "stream",
          "text": [
            "/usr/local/lib/python3.6/dist-packages/sklearn/preprocessing/_function_transformer.py:98: FutureWarning: The default validate=True will be replaced by validate=False in 0.22.\n",
            "  \"validate=False in 0.22.\", FutureWarning)\n",
            "/usr/local/lib/python3.6/dist-packages/sklearn/linear_model/logistic.py:433: FutureWarning: Default solver will be changed to 'lbfgs' in 0.22. Specify a solver to silence this warning.\n",
            "  FutureWarning)\n",
            "/usr/local/lib/python3.6/dist-packages/sklearn/linear_model/logistic.py:460: FutureWarning: Default multi_class will be changed to 'auto' in 0.22. Specify the multi_class option to silence this warning.\n",
            "  \"this warning.\", FutureWarning)\n"
          ],
          "name": "stderr"
        },
        {
          "output_type": "execute_result",
          "data": {
            "text/plain": [
              "Pipeline(memory=None,\n",
              "     steps=[('Tfidf', TfidfVectorizer(analyzer='word', binary=False, decode_error='strict',\n",
              "        dtype=<class 'numpy.float64'>, encoding='utf-8', input='content',\n",
              "        lowercase=True, max_df=0.95, max_features=None, min_df=2,\n",
              "        ngram_range=(1, 1), norm='l2', preprocessor=None, smooth_idf=True...penalty='l1', random_state=None, solver='warn',\n",
              "          tol=0.0001, verbose=0, warm_start=False))])"
            ]
          },
          "metadata": {
            "tags": []
          },
          "execution_count": 320
        }
      ]
    },
    {
      "metadata": {
        "id": "XTuayXPuzABK",
        "colab_type": "code",
        "outputId": "e8cd34df-b64d-4472-ee58-5da51ec38cf0",
        "colab": {
          "base_uri": "https://localhost:8080/",
          "height": 72
        }
      },
      "cell_type": "code",
      "source": [
        "pred = poem_clf.predict(X_test)"
      ],
      "execution_count": 256,
      "outputs": [
        {
          "output_type": "stream",
          "text": [
            "/usr/local/lib/python3.6/dist-packages/sklearn/preprocessing/_function_transformer.py:98: FutureWarning: The default validate=True will be replaced by validate=False in 0.22.\n",
            "  \"validate=False in 0.22.\", FutureWarning)\n"
          ],
          "name": "stderr"
        }
      ]
    },
    {
      "metadata": {
        "id": "eQH_VAoF04kH",
        "colab_type": "code",
        "colab": {}
      },
      "cell_type": "code",
      "source": [
        "from sklearn.metrics import accuracy_score,confusion_matrix"
      ],
      "execution_count": 0,
      "outputs": []
    },
    {
      "metadata": {
        "id": "cC67lb8E0_f1",
        "colab_type": "code",
        "outputId": "5f687b64-1534-4dc7-fbad-ec1e998d6df1",
        "colab": {
          "base_uri": "https://localhost:8080/",
          "height": 86
        }
      },
      "cell_type": "code",
      "source": [
        "# Confusion Matrix\n",
        "print(confusion_matrix(y_test,pred))"
      ],
      "execution_count": 321,
      "outputs": [
        {
          "output_type": "stream",
          "text": [
            "[[39  9  3 11]\n",
            " [26 24  9 14]\n",
            " [18  5 20 15]\n",
            " [22  2  3 30]]\n"
          ],
          "name": "stdout"
        }
      ]
    },
    {
      "metadata": {
        "id": "z7yy3UH81Oef",
        "colab_type": "code",
        "outputId": "f0710e75-51b2-45e8-88c7-a2c2ee7df98f",
        "colab": {
          "base_uri": "https://localhost:8080/",
          "height": 34
        }
      },
      "cell_type": "code",
      "source": [
        "print(f\"Accuracy for Logistic Regression is: {accuracy_score(y_test,pred) * 100}%\")"
      ],
      "execution_count": 332,
      "outputs": [
        {
          "output_type": "stream",
          "text": [
            "Accuracy for Logistic Regression is: 45.2%\n"
          ],
          "name": "stdout"
        }
      ]
    },
    {
      "metadata": {
        "id": "u5_JpkSXRFKH",
        "colab_type": "code",
        "colab": {}
      },
      "cell_type": "code",
      "source": [
        "poem_clf2 = Pipeline([\n",
        "                (\"Tfidf\", TfidfVectorizer(min_df = 2,max_df = 0.95)),\n",
        "                (\"ToDense\",FunctionTransformer(lambda x: x.todense(), accept_sparse=True)),\n",
        "                (\"Classifier\",SVC(kernel = 'linear'))\n",
        "])"
      ],
      "execution_count": 0,
      "outputs": []
    },
    {
      "metadata": {
        "colab_type": "code",
        "outputId": "002a845d-57c9-42ef-c151-b50e07e0ef81",
        "id": "BlE1RcHbRato",
        "colab": {
          "base_uri": "https://localhost:8080/",
          "height": 176
        }
      },
      "cell_type": "code",
      "source": [
        "poem_clf2.fit(X_train,y_train)"
      ],
      "execution_count": 334,
      "outputs": [
        {
          "output_type": "stream",
          "text": [
            "/usr/local/lib/python3.6/dist-packages/sklearn/preprocessing/_function_transformer.py:98: FutureWarning: The default validate=True will be replaced by validate=False in 0.22.\n",
            "  \"validate=False in 0.22.\", FutureWarning)\n"
          ],
          "name": "stderr"
        },
        {
          "output_type": "execute_result",
          "data": {
            "text/plain": [
              "Pipeline(memory=None,\n",
              "     steps=[('Tfidf', TfidfVectorizer(analyzer='word', binary=False, decode_error='strict',\n",
              "        dtype=<class 'numpy.float64'>, encoding='utf-8', input='content',\n",
              "        lowercase=True, max_df=0.95, max_features=None, min_df=2,\n",
              "        ngram_range=(1, 1), norm='l2', preprocessor=None, smooth_idf=True...r', max_iter=-1, probability=False, random_state=None,\n",
              "  shrinking=True, tol=0.001, verbose=False))])"
            ]
          },
          "metadata": {
            "tags": []
          },
          "execution_count": 334
        }
      ]
    },
    {
      "metadata": {
        "colab_type": "code",
        "outputId": "2bc6d5a3-f937-4300-94fc-dd591f0e6788",
        "id": "kPPpcix7RavT",
        "colab": {
          "base_uri": "https://localhost:8080/",
          "height": 72
        }
      },
      "cell_type": "code",
      "source": [
        "pred2 = poem_clf2.predict(X_test)"
      ],
      "execution_count": 335,
      "outputs": [
        {
          "output_type": "stream",
          "text": [
            "/usr/local/lib/python3.6/dist-packages/sklearn/preprocessing/_function_transformer.py:98: FutureWarning: The default validate=True will be replaced by validate=False in 0.22.\n",
            "  \"validate=False in 0.22.\", FutureWarning)\n"
          ],
          "name": "stderr"
        }
      ]
    },
    {
      "metadata": {
        "colab_type": "code",
        "outputId": "fd2320d5-9f65-4327-a5d7-44756a2d392e",
        "id": "Th1ky8pZRidZ",
        "colab": {
          "base_uri": "https://localhost:8080/",
          "height": 86
        }
      },
      "cell_type": "code",
      "source": [
        "print(confusion_matrix(y_test,pred2))"
      ],
      "execution_count": 336,
      "outputs": [
        {
          "output_type": "stream",
          "text": [
            "[[29 20  6  7]\n",
            " [24 25  9 15]\n",
            " [17  7 22 12]\n",
            " [17  8  5 27]]\n"
          ],
          "name": "stdout"
        }
      ]
    },
    {
      "metadata": {
        "colab_type": "code",
        "outputId": "3df2216d-6d31-4a85-c011-de4dcc0e9453",
        "id": "oeItEJTBRie1",
        "colab": {
          "base_uri": "https://localhost:8080/",
          "height": 34
        }
      },
      "cell_type": "code",
      "source": [
        "print(f\"Accuracy for SVC is: {round(accuracy_score(y_test,pred2) * 100,3)}%\")"
      ],
      "execution_count": 339,
      "outputs": [
        {
          "output_type": "stream",
          "text": [
            "Accuracy for SVC: 41.2%\n"
          ],
          "name": "stdout"
        }
      ]
    },
    {
      "metadata": {
        "id": "uSNfTtI505ma",
        "colab_type": "text"
      },
      "cell_type": "markdown",
      "source": [
        "So we see Logistic Regression is better in this case"
      ]
    },
    {
      "metadata": {
        "id": "Y7hRkMxt1c8z",
        "colab_type": "text"
      },
      "cell_type": "markdown",
      "source": [
        "Let's try to do topic modelling using Latent Dirichlet Allocation"
      ]
    },
    {
      "metadata": {
        "id": "hphPUd0HnJ3Z",
        "colab_type": "code",
        "colab": {}
      },
      "cell_type": "code",
      "source": [
        "from sklearn.feature_extraction.text import CountVectorizer\n",
        "from sklearn.decomposition import LatentDirichletAllocation"
      ],
      "execution_count": 0,
      "outputs": []
    },
    {
      "metadata": {
        "id": "8USw8NRU8lfs",
        "colab_type": "code",
        "colab": {}
      },
      "cell_type": "code",
      "source": [
        "X_train,X_test,y_train,y_test = train_test_split(X,y,test_size = 0.25,random_state = 100)"
      ],
      "execution_count": 0,
      "outputs": []
    },
    {
      "metadata": {
        "id": "1KcXNDYD15N3",
        "colab_type": "code",
        "colab": {
          "base_uri": "https://localhost:8080/",
          "height": 121
        },
        "outputId": "39dad148-4fda-456c-f79d-f5988cf4c6ec"
      },
      "cell_type": "code",
      "source": [
        "X_train.head()"
      ],
      "execution_count": 342,
      "outputs": [
        {
          "output_type": "execute_result",
          "data": {
            "text/plain": [
              "710    night come everdarken shape seem— grope eerie ...\n",
              "392                                    try wave not wave\n",
              "919    beautiful exactly beautiful inexactly let weed...\n",
              "301    island see castle castle see island people liv...\n",
              "266    daygod madesometh upthen come second sex andbe...\n",
              "Name: Tokens, dtype: object"
            ]
          },
          "metadata": {
            "tags": []
          },
          "execution_count": 342
        }
      ]
    },
    {
      "metadata": {
        "id": "EtrMMJsCoKMx",
        "colab_type": "code",
        "colab": {}
      },
      "cell_type": "code",
      "source": [
        "# Vectorization-->\n",
        "vect = CountVectorizer(min_df = 2,max_df = 0.95,stop_words = 'english')"
      ],
      "execution_count": 0,
      "outputs": []
    },
    {
      "metadata": {
        "id": "oMsg3hkZ0-sx",
        "colab_type": "code",
        "colab": {}
      },
      "cell_type": "code",
      "source": [
        "dtm = vect.fit_transform(X_train)\n",
        "dtm2 = vect.transform(X_test)"
      ],
      "execution_count": 0,
      "outputs": []
    },
    {
      "metadata": {
        "id": "LFew2jgW1Fjz",
        "colab_type": "code",
        "colab": {}
      },
      "cell_type": "code",
      "source": [
        "#n_components = 4 for 4 genres\n",
        "LDA = LatentDirichletAllocation(n_components = 4)"
      ],
      "execution_count": 0,
      "outputs": []
    },
    {
      "metadata": {
        "id": "qEqTQYuT1Nwu",
        "colab_type": "code",
        "colab": {}
      },
      "cell_type": "code",
      "source": [
        "ans = LDA.fit_transform(dtm)\n",
        "ans2 = LDA.transform(dtm2)"
      ],
      "execution_count": 0,
      "outputs": []
    },
    {
      "metadata": {
        "id": "49YVqTRB1RRo",
        "colab_type": "code",
        "outputId": "03226dfa-d097-4f41-9fef-3763da2eeaac",
        "colab": {
          "base_uri": "https://localhost:8080/",
          "height": 34
        }
      },
      "cell_type": "code",
      "source": [
        "ans.shape"
      ],
      "execution_count": 349,
      "outputs": [
        {
          "output_type": "execute_result",
          "data": {
            "text/plain": [
              "(749, 4)"
            ]
          },
          "metadata": {
            "tags": []
          },
          "execution_count": 349
        }
      ]
    },
    {
      "metadata": {
        "id": "GXZHSYVb9InV",
        "colab_type": "code",
        "colab": {}
      },
      "cell_type": "code",
      "source": [
        "# Prediction of classes according to LDA\n",
        "Y_train = ans.argmax(axis = 1)\n",
        "Y_test = ans2.argmax(axis = 1)"
      ],
      "execution_count": 0,
      "outputs": []
    },
    {
      "metadata": {
        "colab_type": "code",
        "id": "NKzf4L_qSDRD",
        "colab": {}
      },
      "cell_type": "code",
      "source": [
        "poem_LDA_clf = Pipeline([\n",
        "                (\"Tfidf\", TfidfVectorizer(min_df = 2,max_df = 0.95)),\n",
        "                (\"ToDense\",FunctionTransformer(lambda x: x.todense(), accept_sparse=True)),\n",
        "                (\"Classifier\",SVC(gamma = 0.0001,kernel = 'linear'))\n",
        "])"
      ],
      "execution_count": 0,
      "outputs": []
    },
    {
      "metadata": {
        "id": "THyI3bs2BL-q",
        "colab_type": "code",
        "colab": {
          "base_uri": "https://localhost:8080/",
          "height": 193
        },
        "outputId": "da997672-6fb4-4988-8ea8-d633692742dc"
      },
      "cell_type": "code",
      "source": [
        "poem_LDA_clf.fit(X_train,Y_train)"
      ],
      "execution_count": 352,
      "outputs": [
        {
          "output_type": "stream",
          "text": [
            "/usr/local/lib/python3.6/dist-packages/sklearn/preprocessing/_function_transformer.py:98: FutureWarning: The default validate=True will be replaced by validate=False in 0.22.\n",
            "  \"validate=False in 0.22.\", FutureWarning)\n"
          ],
          "name": "stderr"
        },
        {
          "output_type": "execute_result",
          "data": {
            "text/plain": [
              "Pipeline(memory=None,\n",
              "     steps=[('Tfidf', TfidfVectorizer(analyzer='word', binary=False, decode_error='strict',\n",
              "        dtype=<class 'numpy.float64'>, encoding='utf-8', input='content',\n",
              "        lowercase=True, max_df=0.95, max_features=None, min_df=2,\n",
              "        ngram_range=(1, 1), norm='l2', preprocessor=None, smooth_idf=True...,\n",
              "  max_iter=-1, probability=False, random_state=None, shrinking=True,\n",
              "  tol=0.001, verbose=False))])"
            ]
          },
          "metadata": {
            "tags": []
          },
          "execution_count": 352
        }
      ]
    },
    {
      "metadata": {
        "id": "3tvS3PkQBa8p",
        "colab_type": "code",
        "colab": {
          "base_uri": "https://localhost:8080/",
          "height": 72
        },
        "outputId": "7540c564-76d0-404e-f611-09dfc2310cfe"
      },
      "cell_type": "code",
      "source": [
        "pred3 = poem_LDA_clf.predict(X_test)"
      ],
      "execution_count": 353,
      "outputs": [
        {
          "output_type": "stream",
          "text": [
            "/usr/local/lib/python3.6/dist-packages/sklearn/preprocessing/_function_transformer.py:98: FutureWarning: The default validate=True will be replaced by validate=False in 0.22.\n",
            "  \"validate=False in 0.22.\", FutureWarning)\n"
          ],
          "name": "stderr"
        }
      ]
    },
    {
      "metadata": {
        "id": "I5k7YWSmDx1S",
        "colab_type": "code",
        "colab": {
          "base_uri": "https://localhost:8080/",
          "height": 34
        },
        "outputId": "8e9d7a5c-c456-4841-f8b7-95fed3350bb0"
      },
      "cell_type": "code",
      "source": [
        "print(f'Accuracy using SVC is: {accuracy_score(Y_test,pred3) * 100}%')"
      ],
      "execution_count": 357,
      "outputs": [
        {
          "output_type": "stream",
          "text": [
            "Accuracy using SVC is: 76.8%\n"
          ],
          "name": "stdout"
        }
      ]
    },
    {
      "metadata": {
        "colab_type": "code",
        "id": "G-xSEA_1Tz-3",
        "colab": {}
      },
      "cell_type": "code",
      "source": [
        "poem_LDA_clf2 = Pipeline([\n",
        "                (\"Tfidf\", TfidfVectorizer(min_df = 2,max_df = 0.95)),\n",
        "                (\"ToDense\",FunctionTransformer(lambda x: x.todense(), accept_sparse=True)),\n",
        "                (\"Classifier\",LogisticRegression(penalty = 'l2'))\n",
        "])"
      ],
      "execution_count": 0,
      "outputs": []
    },
    {
      "metadata": {
        "colab_type": "code",
        "outputId": "c9936293-e72b-4410-864c-2b6742c7db0d",
        "id": "UIWn4S5MT0Af",
        "colab": {
          "base_uri": "https://localhost:8080/",
          "height": 245
        }
      },
      "cell_type": "code",
      "source": [
        "poem_LDA_clf2.fit(X_train,Y_train)"
      ],
      "execution_count": 359,
      "outputs": [
        {
          "output_type": "stream",
          "text": [
            "/usr/local/lib/python3.6/dist-packages/sklearn/preprocessing/_function_transformer.py:98: FutureWarning: The default validate=True will be replaced by validate=False in 0.22.\n",
            "  \"validate=False in 0.22.\", FutureWarning)\n",
            "/usr/local/lib/python3.6/dist-packages/sklearn/linear_model/logistic.py:433: FutureWarning: Default solver will be changed to 'lbfgs' in 0.22. Specify a solver to silence this warning.\n",
            "  FutureWarning)\n",
            "/usr/local/lib/python3.6/dist-packages/sklearn/linear_model/logistic.py:460: FutureWarning: Default multi_class will be changed to 'auto' in 0.22. Specify the multi_class option to silence this warning.\n",
            "  \"this warning.\", FutureWarning)\n"
          ],
          "name": "stderr"
        },
        {
          "output_type": "execute_result",
          "data": {
            "text/plain": [
              "Pipeline(memory=None,\n",
              "     steps=[('Tfidf', TfidfVectorizer(analyzer='word', binary=False, decode_error='strict',\n",
              "        dtype=<class 'numpy.float64'>, encoding='utf-8', input='content',\n",
              "        lowercase=True, max_df=0.95, max_features=None, min_df=2,\n",
              "        ngram_range=(1, 1), norm='l2', preprocessor=None, smooth_idf=True...penalty='l2', random_state=None, solver='warn',\n",
              "          tol=0.0001, verbose=0, warm_start=False))])"
            ]
          },
          "metadata": {
            "tags": []
          },
          "execution_count": 359
        }
      ]
    },
    {
      "metadata": {
        "colab_type": "code",
        "outputId": "5e048fa0-963b-4db2-f945-ecaae957439a",
        "id": "hfRIzIopT0A9",
        "colab": {
          "base_uri": "https://localhost:8080/",
          "height": 72
        }
      },
      "cell_type": "code",
      "source": [
        "pred4 = poem_LDA_clf2.predict(X_test)"
      ],
      "execution_count": 361,
      "outputs": [
        {
          "output_type": "stream",
          "text": [
            "/usr/local/lib/python3.6/dist-packages/sklearn/preprocessing/_function_transformer.py:98: FutureWarning: The default validate=True will be replaced by validate=False in 0.22.\n",
            "  \"validate=False in 0.22.\", FutureWarning)\n"
          ],
          "name": "stderr"
        }
      ]
    },
    {
      "metadata": {
        "colab_type": "code",
        "outputId": "242d45a0-2879-410b-8c8e-97c6dffb000f",
        "id": "qHXQwciTT0BX",
        "colab": {
          "base_uri": "https://localhost:8080/",
          "height": 34
        }
      },
      "cell_type": "code",
      "source": [
        "print(f\"Accuracy for Logistic Regression is: {accuracy_score(Y_test,pred4) * 100}%\")"
      ],
      "execution_count": 363,
      "outputs": [
        {
          "output_type": "stream",
          "text": [
            "Accuracy for Logistic Regression is: 68.8%\n"
          ],
          "name": "stdout"
        }
      ]
    },
    {
      "metadata": {
        "id": "hDRYQDuyT6o_",
        "colab_type": "code",
        "colab": {}
      },
      "cell_type": "code",
      "source": [
        ""
      ],
      "execution_count": 0,
      "outputs": []
    }
  ]
}